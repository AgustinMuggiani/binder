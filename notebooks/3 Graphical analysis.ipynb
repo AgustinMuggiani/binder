{
 "cells": [
  {
   "cell_type": "code",
   "execution_count": null,
   "metadata": {
    "collapsed": false
   },
   "outputs": [],
   "source": [
    "%matplotlib inline"
   ]
  },
  {
   "cell_type": "code",
   "execution_count": null,
   "metadata": {
    "collapsed": false
   },
   "outputs": [],
   "source": [
    "import matplotlib.pyplot as plt\n",
    "import seaborn as sns\n",
    "import numpy as np\n",
    "import pandas as pd\n",
    "import sympy as sym\n",
    "\n",
    "import solowpy"
   ]
  },
  {
   "cell_type": "code",
   "execution_count": null,
   "metadata": {
    "collapsed": false
   },
   "outputs": [],
   "source": [
    "# define model parameters\n",
    "ces_params = {'A0': 1.0, 'L0': 1.0, 'g': 0.02, 'n': 0.03, 's': 0.15,\n",
    "              'delta': 0.05, 'alpha': 0.33, 'sigma': 0.95}\n",
    "\n",
    "# create an instance of the solow.Model class\n",
    "ces_model = solowpy.CESModel(params=ces_params)"
   ]
  },
  {
   "cell_type": "markdown",
   "metadata": {},
   "source": [
    "# 3. Graphical analysis using Matplotlib and IPython widgets\n",
    "\n",
    "As the primary use of this module is for teaching purposes, there are a number of pedagogically useful plotting methods. I will demonstrate the basic usage of only a few of them below. To see a full listing of the available plotting methods use tab-completion on the cell below."
   ]
  },
  {
   "cell_type": "code",
   "execution_count": null,
   "metadata": {
    "collapsed": false
   },
   "outputs": [],
   "source": [
    "# use tab completion to see complete list\n",
    "ces_model.plot_"
   ]
  },
  {
   "cell_type": "markdown",
   "metadata": {},
   "source": [
    "### Static example:\n",
    "Creating a static plot of the classic Solow diagram is done as follows."
   ]
  },
  {
   "cell_type": "code",
   "execution_count": null,
   "metadata": {
    "collapsed": false
   },
   "outputs": [],
   "source": [
    "fig, ax = plt.subplots(1, 1, figsize=(8,6))\n",
    "ces_model.plot_solow_diagram(ax)\n",
    "fig.show()"
   ]
  },
  {
   "cell_type": "markdown",
   "metadata": {},
   "source": [
    "## Interactive example:\n",
    "All of the various plotting methods can be made interactive using IPython widgets. To construct an IPython widget we need the following additional `import` statements."
   ]
  },
  {
   "cell_type": "code",
   "execution_count": null,
   "metadata": {
    "collapsed": false
   },
   "outputs": [],
   "source": [
    "from IPython.html.widgets import fixed, interact, FloatSliderWidget"
   ]
  },
  {
   "cell_type": "markdown",
   "metadata": {},
   "source": [
    "Creating an interactive plot of the classic Solow diagram is done as follows."
   ]
  },
  {
   "cell_type": "code",
   "execution_count": null,
   "metadata": {
    "collapsed": false
   },
   "outputs": [],
   "source": [
    "# wrap the static plotting code in a function\n",
    "def interactive_solow_diagram(model, **params):\n",
    "    \"\"\"Interactive widget for the factor shares.\"\"\"\n",
    "    fig, ax = plt.subplots(1, 1, figsize=(8, 6))\n",
    "    model.plot_solow_diagram(ax, Nk=1000, **params)\n",
    "    \n",
    "# define some widgets for the various parameters\n",
    "eps = 1e-2\n",
    "technology_progress_widget = FloatSliderWidget(min=-0.05, max=0.05, step=eps, value=0.02)\n",
    "population_growth_widget = FloatSliderWidget(min=-0.05, max=0.05, step=eps, value=0.02)\n",
    "savings_widget = FloatSliderWidget(min=eps, max=1-eps, step=eps, value=0.5)\n",
    "output_elasticity_widget = FloatSliderWidget(min=eps, max=1.0, step=eps, value=0.5)\n",
    "depreciation_widget = FloatSliderWidget(min=eps, max=1-eps, step=eps, value=0.5)\n",
    "elasticity_substitution_widget = FloatSliderWidget(min=eps, max=10.0, step=0.01, value=1.0+eps)\n",
    "\n",
    "# create the widget!\n",
    "interact(interactive_solow_diagram, \n",
    "         model=fixed(ces_model),\n",
    "         g=technology_progress_widget,\n",
    "         n=population_growth_widget,\n",
    "         s=savings_widget, \n",
    "         alpha=output_elasticity_widget,\n",
    "         delta=depreciation_widget,\n",
    "         sigma=elasticity_substitution_widget,\n",
    "         )"
   ]
  },
  {
   "cell_type": "markdown",
   "metadata": {},
   "source": [
    "## 3.1 Intensive production function\n",
    "Creating an interactive plot of the intensive production function is done as follows."
   ]
  },
  {
   "cell_type": "code",
   "execution_count": null,
   "metadata": {
    "collapsed": false
   },
   "outputs": [],
   "source": [
    "model.plot_intensive_output?"
   ]
  },
  {
   "cell_type": "code",
   "execution_count": null,
   "metadata": {
    "collapsed": false
   },
   "outputs": [],
   "source": [
    "def interactive_intensive_output(model, **params):\n",
    "    \"\"\"Interactive widget for the intensive production function.\"\"\"\n",
    "    fig, ax = plt.subplots(1, 1, figsize=(8, 6))\n",
    "    model.plot_intensive_output(ax, Nk=1000, **params)\n",
    "    \n",
    "# define some widgets for the various parameters\n",
    "eps = 1e-2\n",
    "output_elasticity_widget = FloatSliderWidget(min=eps, max=1-eps, step=0.1, value=0.5)\n",
    "elasticity_substitution_widget = FloatSliderWidget(min=eps, max=10.0, step=0.5, value=1.0+eps)\n",
    "\n",
    "# create the interactive plot\n",
    "interact(interactive_intensive_output,\n",
    "         model=fixed(ces_model),\n",
    "         alpha=output_elasticity_widget,\n",
    "         sigma=elasticity_substitution_widget\n",
    "         )"
   ]
  },
  {
   "cell_type": "markdown",
   "metadata": {},
   "source": [
    "##3.2  Factor shares\n",
    "Creating an interactive plot of factor shares for capital and labor is done as follows."
   ]
  },
  {
   "cell_type": "code",
   "execution_count": null,
   "metadata": {
    "collapsed": false
   },
   "outputs": [],
   "source": [
    "def interactive_factor_shares(model, **params):\n",
    "    \"\"\"Interactive widget for the factor shares.\"\"\"\n",
    "    fig, ax = plt.subplots(1, 1, figsize=(8, 6))\n",
    "    model.plot_factor_shares(ax, Nk=1000, **params)\n",
    "    \n",
    "# define some widgets for the various parameters\n",
    "eps = 1e-2\n",
    "technology_progress_widget = FloatSliderWidget(min=-0.05, max=0.05, step=eps, value=0.02)\n",
    "population_growth_widget = FloatSliderWidget(min=-0.05, max=0.05, step=eps, value=0.02)\n",
    "savings_widget = FloatSliderWidget(min=eps, max=1-eps, step=eps, value=0.5)\n",
    "output_elasticity_widget = FloatSliderWidget(min=eps, max=1.0-eps, step=eps, value=0.5)\n",
    "depreciation_widget = FloatSliderWidget(min=eps, max=1-eps, step=eps, value=0.5)\n",
    "elasticity_substitution_widget = FloatSliderWidget(min=eps, max=10.0, step=0.5, value=1.0+eps)\n",
    "\n",
    "# create the widget!\n",
    "interact(interactive_factor_shares, \n",
    "         model=fixed(ces_model),\n",
    "         g=technology_progress_widget,\n",
    "         n=population_growth_widget,\n",
    "         s=savings_widget, \n",
    "         alpha=output_elasticity_widget,\n",
    "         delta=depreciation_widget,\n",
    "         sigma=elasticity_substitution_widget,\n",
    "         )"
   ]
  },
  {
   "cell_type": "markdown",
   "metadata": {},
   "source": [
    "## 3.4 Phase Diagram\n",
    "Creating an interactive plot of the phase diagram for the Solow model is done as follows."
   ]
  },
  {
   "cell_type": "code",
   "execution_count": null,
   "metadata": {
    "collapsed": false
   },
   "outputs": [],
   "source": [
    "def interactive_phase_diagram(model, **params):\n",
    "    \"\"\"Interactive widget for the phase diagram.\"\"\"\n",
    "    fig, ax = plt.subplots(1, 1, figsize=(8, 6))\n",
    "    model.plot_phase_diagram(ax, Nk=1000, **params)\n",
    "    \n",
    "# define some widgets for the various parameters\n",
    "eps = 1e-2\n",
    "technology_progress_widget = FloatSliderWidget(min=-0.05, max=0.05, step=eps, value=0.02)\n",
    "population_growth_widget = FloatSliderWidget(min=-0.05, max=0.05, step=eps, value=0.02)\n",
    "savings_widget = FloatSliderWidget(min=eps, max=1-eps, step=eps, value=0.5)\n",
    "output_elasticity_widget = FloatSliderWidget(min=eps, max=1-eps, step=eps, value=0.5)\n",
    "depreciation_widget = FloatSliderWidget(min=eps, max=1-eps, step=eps, value=0.5)\n",
    "elasticity_substitution_widget = FloatSliderWidget(min=eps, max=10.0, step=0.5, value=1.0+eps)\n",
    "\n",
    "\n",
    "# create the widget!\n",
    "phase_diagram_widget = interact(interactive_phase_diagram, \n",
    "                                model=fixed(ces_model),\n",
    "                                g=technology_progress_widget,\n",
    "                                n=population_growth_widget,\n",
    "                                s=savings_widget, \n",
    "                                alpha=output_elasticity_widget,\n",
    "                                delta=depreciation_widget,\n",
    "                                sigma=elasticity_substitution_widget\n",
    "                                )"
   ]
  },
  {
   "cell_type": "code",
   "execution_count": null,
   "metadata": {
    "collapsed": false
   },
   "outputs": [],
   "source": []
  }
 ],
 "metadata": {
  "kernelspec": {
   "display_name": "Python 2",
   "language": "python",
   "name": "python2"
  },
  "language_info": {
   "codemirror_mode": {
    "name": "ipython",
    "version": 2
   },
   "file_extension": ".py",
   "mimetype": "text/x-python",
   "name": "python",
   "nbconvert_exporter": "python",
   "pygments_lexer": "ipython2",
   "version": "2.7.9"
  }
 },
 "nbformat": 4,
 "nbformat_minor": 0
}

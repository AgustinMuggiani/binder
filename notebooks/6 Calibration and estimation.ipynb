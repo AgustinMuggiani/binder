{
 "cells": [
  {
   "cell_type": "code",
   "execution_count": null,
   "metadata": {
    "collapsed": false
   },
   "outputs": [],
   "source": [
    "%matplotlib inline"
   ]
  },
  {
   "cell_type": "code",
   "execution_count": null,
   "metadata": {
    "collapsed": false
   },
   "outputs": [],
   "source": [
    "import matplotlib.pyplot as plt\n",
    "import numpy as np\n",
    "import pandas as pd\n",
    "import sympy as sym\n",
    "\n",
    "import solowpy"
   ]
  },
  {
   "cell_type": "markdown",
   "metadata": {},
   "source": [
    "# 6. Calibration:\n",
    "\n",
    "In this task we will look at a simple strategy for calibrating a Solow model with Cobb-Douglas production using data from the [Penn World Tables (PWT)](http://www.rug.nl/research/ggdc/data/penn-world-table).\n",
    "\n",
    "### Capital depreciation rate, $\\delta$: \n",
    "The PWT provides estimated depreciation rates that vary across both time and countries. As an estimate for the rate of capital depreciation for country $i$ I use the time-average of $\\verb|delta_k|_{it}$ as provided by the PWT. \n",
    "\n",
    "### Capital's share of output/income, $\\alpha$: \n",
    "Capital's share for country $i$ in year $t$, $\\alpha_{it}$ is computed as $\\alpha_{it} = 1 - \\verb|labsh|_{it}$, where $\\verb|labsh|_{it}$ is the labor share of output/income for country $i$ in year $t$ provided by the PWT. I then use the time-average of $\\alpha_{it}$ as the estimate of capital's share for country $i$.\n",
    "\n",
    "### Savings rate, $s$: \n",
    "As a measure of the savings rate for country $i$, I take the simple time-average of the annual investment share of real GDP, $\\verb|i_sh|$, for country $i$ from the PWT.\n",
    "\n",
    "### Labor force growth rate, $n$:\n",
    "To obtain a measure of the labor force growth rate for country $i$, I regress the logarithm of total employed persons, $\\verb|emp|$, in country $i$ from the PWT on a constant and a linear time trend.\n",
    "\n",
    "$$ \\ln\\ \\verb|emp|_i = \\beta_0 + \\beta_1 \\verb|t| + \\epsilon_i \\tag{2.1}$$\n",
    "\n",
    "The estimated coefficient $\\beta_1$ is then used as my estimate for the $n$. To estimate the initial number of employed persons, $L_0$, I use $e^{\\beta_0}$ as the estimate for $L_0$.\n",
    "\n",
    "### Growth rate of technology, $g$:\n",
    "To obtain a measure of the growth rate of technology for country $i$, I first adjust the total factor productivity measure reported by the PWT, $\\verb|rtfpna|$ (which excludes the human capital contribution to TFP), and then regress the logarithm of this adjusted measure of TFP, $\\verb|atfpna|$, for country $i$ on a constant and a linear time trend.\n",
    "\n",
    "$$ \\ln\\ \\verb|atfpna|_i = \\beta_0 + \\beta_1 \\verb|t| + \\epsilon_i \\tag{2.2}$$\n",
    "\n",
    "The estimated coefficient $\\beta_1$ is then used as my estimate for the $g$. To estimate the initial level of technology, $A_0$, I use $e^{\\beta_0}$ as the estimate for $A_0$.\n",
    "\n",
    "All of this is being done \"behind the scenes\".  All you need to in order to calibrate the model is pick an [ISO 3 country code](http://en.wikipedia.org/wiki/ISO_3166-1_alpha-3)! Now let's calibrate a Solow model for the UK."
   ]
  },
  {
   "cell_type": "code",
   "execution_count": null,
   "metadata": {
    "collapsed": false
   },
   "outputs": [],
   "source": [
    "import pypwt"
   ]
  },
  {
   "cell_type": "code",
   "execution_count": null,
   "metadata": {
    "collapsed": false
   },
   "outputs": [],
   "source": [
    "pwt = pypwt.load_pwt_data()"
   ]
  },
  {
   "cell_type": "code",
   "execution_count": null,
   "metadata": {
    "collapsed": false
   },
   "outputs": [],
   "source": [
    "fig, ax = plt.subplots(1, 1, figsize=(8,6))\n",
    "\n",
    "for ctry in pwt.major_axis:\n",
    "    tmp_data = pwt.major_xs(ctry)\n",
    "    tmp_data.labsh.plot(color='gray', alpha=0.5)\n",
    "    \n",
    "# plot some specific countries\n",
    "pwt.major_xs('USA').labsh.plot(color='b', ax=ax, label='USA')\n",
    "pwt.major_xs('IND').labsh.plot(color='g', ax=ax, label='IND')\n",
    "\n",
    "# plot global average\n",
    "avg_labor_share = pwt.labsh.mean(axis=0)\n",
    "avg_labor_share.plot(color='r', ax=ax)\n",
    "\n",
    "ax.set_xlabel('Year', family='serif', fontsize=15)\n",
    "ax.set_ylabel('Labor share of income', family='serif', fontsize=15)\n",
    "ax.set_ylim(0, 1)\n",
    "\n",
    "plt.show()"
   ]
  },
  {
   "cell_type": "code",
   "execution_count": null,
   "metadata": {
    "collapsed": false
   },
   "outputs": [],
   "source": [
    "def match_moments(model, data, iso3_code, bounds=None):\n",
    "    r\"\"\"\n",
    "    Simple calibration scheme for a Solow model with Cobb-Douglas production\n",
    "    based on data from the Penn World Tables (PWT).\n",
    "\n",
    "    Parameters\n",
    "    ----------\n",
    "\n",
    "    model : solow.CobbDouglasModel\n",
    "        An instance of the CobbDouglasModel class that you wish to calibrate.\n",
    "    data : pandas.Panel\n",
    "        An instance of the pandas.Panel class containing PWT data.\n",
    "    iso3_code : str\n",
    "        A valid ISO3 country code. For example, to calibrate the model using\n",
    "        data for the United States, one would set iso3_code='USA'; to calibrate\n",
    "        a model using data for Zimbabwe, one would set iso3_code='ZWE'. For a\n",
    "        complete listing of ISO3 country codes see `wikipedia`_.\n",
    "    bounds : tuple (default=None)\n",
    "        Start and end years for the subset of the PWT data to use for\n",
    "        calibration. Note that start and end years should be specified as\n",
    "        strings. For example, to calibrate a model using data from 1983 to 2003\n",
    "        one would set\n",
    "\n",
    "            bounds=('1983', '2003')\n",
    "\n",
    "        By default calibration will make use of all available data for the\n",
    "        specified country.\n",
    "\n",
    "    .. `wikipedia`: http://en.wikipedia.org/wiki/ISO_3166-1_alpha-3\n",
    "\n",
    "    \"\"\"\n",
    "    # get the PWT data for the iso_code\n",
    "    tmp_data = data.major_xs(iso3_code)\n",
    "    required_vars = ['rgdpna', 'rkna', 'emp', 'labsh', 'csh_i', 'delta_k']\n",
    "    tmp_data = tmp_data[required_vars].dropna()\n",
    "    assert not tmp_data.empty, \"Insufficient data to estimate model parameters\"\n",
    "    \n",
    "    # set bounds\n",
    "    if bounds is None:\n",
    "        start = tmp_data.index[0]\n",
    "        end = tmp_data.index[-1]\n",
    "    else:\n",
    "        start = bounds[0]\n",
    "        end = bounds[1]\n",
    "    tmp_data = tmp_data.loc[start:end]\n",
    "\n",
    "    # define the data used in the calibration\n",
    "    output = tmp_data['rgdpna']\n",
    "    capital = tmp_data['rkna']\n",
    "    labor = tmp_data['emp']\n",
    "    labor_share = tmp_data['labsh']\n",
    "    savings_rate = tmp_data['csh_i']\n",
    "    depreciation_rate = tmp_data['delta_k']\n",
    "\n",
    "    # define a time trend variable\n",
    "    N = tmp_data.index.size\n",
    "    linear_trend = pd.Series(np.linspace(0, N - 1, N), index=tmp_data.index)\n",
    "    time_trend = linear_trend.loc[start:end]\n",
    "\n",
    "    # estimate capital's share of income/output\n",
    "    capital_share = 1 - labor_share\n",
    "    alpha = capital_share.mean()\n",
    "\n",
    "    # compute solow residual (note dependence on alpha!)\n",
    "    solow_residual = model.evaluate_solow_residual(output, capital, labor)\n",
    "    technology = solow_residual.loc[start:end]\n",
    "\n",
    "    # estimate the fraction of output saved\n",
    "    s = savings_rate.mean()\n",
    "\n",
    "    # regress log employed persons on linear time trend\n",
    "    res = pd.ols(y=np.log(labor), x=time_trend)\n",
    "    n = res.beta[0]\n",
    "    L0 = np.exp(res.beta[1])\n",
    "\n",
    "    # regress log TFP on linear time trend\n",
    "    res = pd.ols(y=np.log(technology), x=time_trend)\n",
    "    g = res.beta[0]\n",
    "    A0 = np.exp(res.beta[1])\n",
    "\n",
    "    # estimate the depreciation rate for total capital\n",
    "    delta = depreciation_rate.mean()\n",
    "\n",
    "    # create a dictionary of model parameters\n",
    "    tmp_params = {'s': s, 'alpha': alpha, 'delta': delta, 'n': n, 'L0': L0,\n",
    "                  'g': g, 'A0': A0}\n",
    "\n",
    "    # update the model's parameters\n",
    "    return tmp_params\n"
   ]
  },
  {
   "cell_type": "code",
   "execution_count": null,
   "metadata": {
    "collapsed": false
   },
   "outputs": [],
   "source": [
    "# define model parameters\n",
    "cobb_douglas_params = {'A0': 1.0, 'L0': 1.0, 'g': 0.02, 'n': 0.03, 's': 0.15,\n",
    "                      'delta': 0.05, 'alpha': 0.33}\n",
    "\n",
    "# create an instance of the solow.Model class\n",
    "cobb_douglas_model = solow.CobbDouglasModel(params=cobb_douglas_params)"
   ]
  },
  {
   "cell_type": "code",
   "execution_count": null,
   "metadata": {
    "collapsed": false
   },
   "outputs": [],
   "source": [
    "match_moments(cobb_douglas_model, pwt, 'CHN')"
   ]
  },
  {
   "cell_type": "markdown",
   "metadata": {},
   "source": [
    "# Estimating model with CES production"
   ]
  },
  {
   "cell_type": "markdown",
   "metadata": {},
   "source": [
    "## Maximum likelihood"
   ]
  },
  {
   "cell_type": "code",
   "execution_count": null,
   "metadata": {
    "collapsed": false
   },
   "outputs": [],
   "source": [
    "# define model parameters\n",
    "ces_params = {'K0': 1.0, 'A0': 1.0, 'L0': 1.0, 'g': 0.02, 'n': 0.03, 's': 0.15,\n",
    "              'delta': 0.05, 'alpha': 0.33, 'sigma': 0.95, 'sigma_eps': 0.01}\n",
    "\n",
    "# create an instance of the solow.Model class\n",
    "ces_model = solow.CESModel(params=ces_params)"
   ]
  },
  {
   "cell_type": "code",
   "execution_count": null,
   "metadata": {
    "collapsed": false
   },
   "outputs": [],
   "source": [
    "from scipy import optimize, stats"
   ]
  },
  {
   "cell_type": "code",
   "execution_count": null,
   "metadata": {
    "collapsed": false
   },
   "outputs": [],
   "source": [
    "def _intialize_labor_supply(model, labor):\n",
    "    \"\"\"Initial condition for labor supply is not a free parameter.\"\"\"\n",
    "    \n",
    "    \n",
    "def _cobb_douglas_initial_guess(model, data, iso3_code, bounds, sigma0, sigma_eps0):\n",
    "    \"\"\"Estimate parameters assumming Cobb Douglas production.\"\"\"\n",
    "    tmp_params = match_moments(model, data, iso3_code, bounds)\n",
    "    \n",
    "    # initial guesses for sigma, and sigma_eps\n",
    "    tmp_params['sigma'] = sigma0\n",
    "    tmp_params['sigma_eps'] = sigma_eps0\n",
    "    \n",
    "    return _params_to_array(tmp_params) \n",
    "\n",
    "def _array_to_params(array):\n",
    "    \"\"\"Converts array to dictionary of model params.\"\"\"\n",
    "    keys = ['g', 'n', 's', 'alpha', 'delta', 'sigma', 'sigma_eps']\n",
    "    params = dict(zip(keys, array))\n",
    "    return params\n",
    "\n",
    "def _params_to_array(params):\n",
    "    \"\"\"Converts dictionary of model params to an array.\"\"\"\n",
    "    g = params['g']\n",
    "    n = params['n']\n",
    "    s = params['s']\n",
    "    alpha = params['alpha']\n",
    "    delta = params['delta']\n",
    "    sigma = params['sigma']\n",
    "    sigma_eps = params['sigma_eps']\n",
    "    return np.array([g, n, s, alpha, delta, sigma, sigma_eps])\n",
    "    \n",
    "def _likelihood_function(params_array, model, output, capital, labor, labor_share):\n",
    "    \"\"\"Objective for maximum likelihood estimation.\"\"\"\n",
    "    # create tmp parameter dictionary\n",
    "    tmp_params = model.params.copy()\n",
    "    new_params = _array_to_params(params_array)\n",
    "    tmp_params.update(new_params)\n",
    "    model.params = tmp_params\n",
    "\n",
    "    # compute solow residual (note dependence on alpha and sigma!)\n",
    "    technology = model.evaluate_solow_residual(output, capital, labor)\n",
    "    \n",
    "    # compute capital (per unit effective labor)\n",
    "    k = capital / (technology * labor)\n",
    "\n",
    "    # model predicted labor's share of income/output\n",
    "    predicted_labor_share = 1 - model.evaluate_output_elasticity(k)\n",
    "\n",
    "    # residual difference between model predictions and data\n",
    "    residual = labor_share - predicted_labor_share\n",
    "\n",
    "    # assumes residuals are gaussian\n",
    "    total_log_likelihood = np.sum(np.log(stats.norm.pdf(residual, 0, model.params['sigma_eps'])))\n",
    "\n",
    "    return -total_log_likelihood"
   ]
  },
  {
   "cell_type": "code",
   "execution_count": null,
   "metadata": {
    "collapsed": false
   },
   "outputs": [],
   "source": [
    "def maximize_likelihood(model, data, iso3_code, bounds=None, method='BFGS', sigma0=1.01, sigma_eps0=0.01):\n",
    "    r\"\"\"\n",
    "    Maximum likelihood estimation scheme for a Solow model with CES\n",
    "    production based on data from the Penn World Tables (PWT).\n",
    "\n",
    "    Parameters\n",
    "    ----------\n",
    "\n",
    "    model : solow.CESModel\n",
    "        An instance of the CESModel class that you wish to estimate.\n",
    "    data : pandas.Panel\n",
    "        An instance of the pandas.Panel class containing PWT data.\n",
    "    iso3_code : str\n",
    "        A valid ISO3 country code. For example, to calibrate the model using\n",
    "        data for the United States, one would set iso3_code='USA'; to calibrate\n",
    "        a model using data for Zimbabwe, one would set iso3_code='ZWE'. For a\n",
    "        complete listing of ISO3 country codes see `wikipedia`_.\n",
    "    bounds : tuple (default=None)\n",
    "        Start and end years for the subset of the PWT data to use for\n",
    "        calibration. Note that start and end years should be specified as\n",
    "        strings. For example, to calibrate a model using data from 1983 to 2003\n",
    "        one would set\n",
    "\n",
    "            bounds=('1983', '2003')\n",
    "\n",
    "        By default calibration will make use of all available data for the\n",
    "        specified country.\n",
    "\n",
    "    .. `wikipedia`: http://en.wikipedia.org/wiki/ISO_3166-1_alpha-3\n",
    "\n",
    "    \"\"\"\n",
    "    # get the PWT data for the iso_code\n",
    "    tmp_data = data.major_xs(iso3_code)\n",
    "    required_vars = ['rgdpna', 'rkna', 'emp', 'labsh']\n",
    "    tmp_data = tmp_data[required_vars].dropna()\n",
    "    assert not tmp_data.empty, \"Insufficient data to estimate model parameters\"\n",
    "    \n",
    "    # set bounds\n",
    "    if bounds is None:\n",
    "        start = tmp_data.index[0]\n",
    "        end = tmp_data.index[-1]\n",
    "    else:\n",
    "        start = bounds[0]\n",
    "        end = bounds[1]\n",
    "    tmp_data = tmp_data.loc[start:end]\n",
    "\n",
    "    # define the data used in the calibration\n",
    "    output = tmp_data['rgdpna'].loc[start:end]\n",
    "    capital = tmp_data['rkna'].loc[start:end]\n",
    "    labor = tmp_data['emp'].loc[start:end]\n",
    "    labor_share = tmp_data['labsh'].loc[start:end]\n",
    "    technology = model.evaluate_solow_residual(output, capital, labor)\n",
    "\n",
    "    initial_guess = _cobb_douglas_initial_guess(model, data, iso3_code, bounds,\n",
    "                                                sigma0, sigma_eps0)\n",
    "    \n",
    "    eps = 1e-6\n",
    "    bnds = [(None, None), (None, None), (eps, 1-eps), (eps, 1-eps),\n",
    "            (eps, None), (eps, None), (eps, None)]\n",
    "    result = optimize.minimize(_likelihood_function,\n",
    "                               x0=initial_guess,\n",
    "                               args=(model, output, capital, labor, labor_share),\n",
    "                               method=method,\n",
    "                               bounds=bnds)\n",
    "    if result.success:\n",
    "        tmp_params = _array_to_params(result.x)\n",
    "        tmp_params['A0'] = technology[0]\n",
    "        tmp_params['L0'] = labor[0]\n",
    "        tmp_params['K0'] = capital[0]\n",
    "    \n",
    "        return result, tmp_params\n",
    "    \n",
    "    else:\n",
    "        return result"
   ]
  },
  {
   "cell_type": "code",
   "execution_count": null,
   "metadata": {
    "collapsed": false
   },
   "outputs": [],
   "source": []
  },
  {
   "cell_type": "code",
   "execution_count": null,
   "metadata": {
    "collapsed": false
   },
   "outputs": [],
   "source": [
    "# Add assertion error to evaluate solow_residual method@\n",
    "result, params = maximize_likelihood(ces_model, pwt, 'USA', bounds=(None, None),\n",
    "                                     method='Nelder-Mead', sigma0=0.5, sigma_eps0=0.01)"
   ]
  },
  {
   "cell_type": "code",
   "execution_count": null,
   "metadata": {
    "collapsed": false
   },
   "outputs": [],
   "source": [
    "result"
   ]
  },
  {
   "cell_type": "code",
   "execution_count": null,
   "metadata": {
    "collapsed": false
   },
   "outputs": [],
   "source": [
    "ces_model.params = params"
   ]
  },
  {
   "cell_type": "code",
   "execution_count": null,
   "metadata": {
    "collapsed": false
   },
   "outputs": [],
   "source": [
    "result"
   ]
  },
  {
   "cell_type": "code",
   "execution_count": null,
   "metadata": {
    "collapsed": false
   },
   "outputs": [],
   "source": [
    "def _initial_condition(model):\n",
    "    k0 = model.params['K0'] / (model.params['A0'] * model.params['L0'])\n",
    "    return k0\n",
    "\n",
    "# need to specify some initial conditions\n",
    "t0, k0 = 0.0, _initial_condition(ces_model)\n",
    "numeric_soln = ces_model.ivp.solve(t0, k0, T=62, integrator='dopri5')"
   ]
  },
  {
   "cell_type": "code",
   "execution_count": null,
   "metadata": {
    "collapsed": false
   },
   "outputs": [],
   "source": [
    "fig, ax = plt.subplots(1, 1, figsize=(8,6))\n",
    "\n",
    "ax.plot(numeric_soln[:,0], 1 - ces_model.evaluate_output_elasticity(numeric_soln[:,1]),\n",
    "        'bo', markersize=3.0)\n",
    "\n",
    "ax.plot(pwt.major_xs('USA').labsh.loc[:].values)\n",
    "\n",
    "# axes, labels, title, etc\n",
    "ax.set_xlabel('Time, $t$', fontsize=15, family='serif')\n",
    "ax.set_ylabel(r'$\\alpha_K(k(t))$', rotation='horizontal', fontsize=20, family='serif')\n",
    "ax.set_title('Labor share of income', fontsize=20, family='serif')\n",
    "ax.legend(loc=0, frameon=False, bbox_to_anchor=(1.0, 1.0))\n",
    "ax.grid('on')\n",
    "\n",
    "plt.show()"
   ]
  },
  {
   "cell_type": "code",
   "execution_count": null,
   "metadata": {
    "collapsed": false
   },
   "outputs": [],
   "source": [
    "fig, ax = plt.subplots(1, 1, figsize=(8,6))\n",
    "\n",
    "intensive_output = ces_model.evaluate_intensive_output(numeric_soln[:,1])\n",
    "technology = ces_model.params['A0'] * np.exp(ces_model.params['g'] * numeric_soln[:,0])\n",
    "output_per_capita = intensive_output * technology\n",
    "\n",
    "ax.plot(numeric_soln[1:,0], np.diff(np.log(output_per_capita)),\n",
    "        'bo', markersize=3.0)\n",
    "\n",
    "Y = pwt.major_xs('USA').rgdpna.loc[:]\n",
    "E = pwt.major_xs('USA').emp.loc[:]\n",
    "ax.plot(np.log(( Y / E )).diff().values)\n",
    "\n",
    "# axes, labels, title, etc\n",
    "ax.set_xlabel('Time, $t$', fontsize=15, family='serif')\n",
    "ax.set_ylabel(r'$g$', rotation='horizontal', fontsize=20, family='serif')\n",
    "ax.set_title('Growth rate of GDP (per unit labor)', fontsize=20, family='serif')\n",
    "ax.legend(loc=0, frameon=False, bbox_to_anchor=(1.0, 1.0))\n",
    "ax.grid('on')\n",
    "\n",
    "plt.show()"
   ]
  },
  {
   "cell_type": "code",
   "execution_count": null,
   "metadata": {
    "collapsed": false
   },
   "outputs": [],
   "source": [
    "np.diff?"
   ]
  },
  {
   "cell_type": "code",
   "execution_count": null,
   "metadata": {
    "collapsed": false
   },
   "outputs": [],
   "source": [
    "(d.rgdpna / d.emp).pct_change()"
   ]
  },
  {
   "cell_type": "code",
   "execution_count": null,
   "metadata": {
    "collapsed": false
   },
   "outputs": [],
   "source": []
  }
 ],
 "metadata": {
  "kernelspec": {
   "display_name": "Python 2",
   "language": "python",
   "name": "python2"
  },
  "language_info": {
   "codemirror_mode": {
    "name": "ipython",
    "version": 2
   },
   "file_extension": ".py",
   "mimetype": "text/x-python",
   "name": "python",
   "nbconvert_exporter": "python",
   "pygments_lexer": "ipython2",
   "version": "2.7.9"
  }
 },
 "nbformat": 4,
 "nbformat_minor": 0
}

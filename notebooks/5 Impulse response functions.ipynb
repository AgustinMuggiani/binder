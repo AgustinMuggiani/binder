{
 "cells": [
  {
   "cell_type": "code",
   "execution_count": null,
   "metadata": {
    "collapsed": false
   },
   "outputs": [],
   "source": [
    "%matplotlib inline"
   ]
  },
  {
   "cell_type": "code",
   "execution_count": null,
   "metadata": {
    "collapsed": false
   },
   "outputs": [],
   "source": [
    "import matplotlib.pyplot as plt\n",
    "import numpy as np\n",
    "import pandas as pd\n",
    "import sympy as sym\n",
    "\n",
    "import solowpy"
   ]
  },
  {
   "cell_type": "code",
   "execution_count": null,
   "metadata": {
    "collapsed": false
   },
   "outputs": [],
   "source": [
    "# define model parameters\n",
    "ces_params = {'A0': 1.0, 'L0': 1.0, 'g': 0.02, 'n': 0.03, 's': 0.15,\n",
    "              'delta': 0.05, 'alpha': 0.33, 'sigma': 1.01}\n",
    "\n",
    "# create an instance of the solow.Model class\n",
    "ces_model = solowpy.CESModel(params=ces_params)"
   ]
  },
  {
   "cell_type": "markdown",
   "metadata": {},
   "source": [
    "# 5. Impulse response functions\n",
    "\n",
    "Impulse response functions (IRFs) are a standard tool for analyzing the short run dynamics of dynamic macroeconomic models, such as the Solow growth model, in response to an exogenous shock. The `solow.impulse_response.ImpulseResponse` class has several attributes and methods for generating and analyzing impulse response functions. "
   ]
  },
  {
   "cell_type": "code",
   "execution_count": null,
   "metadata": {
    "collapsed": false
   },
   "outputs": [],
   "source": [
    "# use tab completion to see the available attributes and methods...\n",
    "solowpy.impulse_response.ImpulseResponse."
   ]
  },
  {
   "cell_type": "markdown",
   "metadata": {},
   "source": [
    "The `solow.Model` class provides access to all of the functionality of the `solow.impulse_response.ImpulseResponse` class through its `irf` attribute."
   ]
  },
  {
   "cell_type": "code",
   "execution_count": null,
   "metadata": {
    "collapsed": false
   },
   "outputs": [],
   "source": [
    "# use tab completion to see the available attributes and methods...\n",
    "ces_model.irf."
   ]
  },
  {
   "cell_type": "markdown",
   "metadata": {},
   "source": [
    "### Example: Impact of a change in the savings rate\n",
    "One can analyze the impact of a doubling of the savings rate on model variables as follows."
   ]
  },
  {
   "cell_type": "code",
   "execution_count": null,
   "metadata": {
    "collapsed": false
   },
   "outputs": [],
   "source": [
    "# 100% increase in the current savings rate...\n",
    "ces_model.irf.impulse = {'s': 2.0 * ces_model.params['s']}\n",
    "\n",
    "# in efficiency units...\n",
    "ces_model.irf.kind = 'efficiency_units'"
   ]
  },
  {
   "cell_type": "markdown",
   "metadata": {},
   "source": [
    "Take a look at the IRF for the savings rate shock. Note that while capital and output are unaffected at the `t=0`, both consumption and investment jump (in opposite directions!) in response to the change in the savings rate."
   ]
  },
  {
   "cell_type": "code",
   "execution_count": null,
   "metadata": {
    "collapsed": false
   },
   "outputs": [],
   "source": [
    "# ordering of variables is t, k, y, c, i!\n",
    "print(ces_model.irf.impulse_response[:25,])"
   ]
  },
  {
   "cell_type": "markdown",
   "metadata": {},
   "source": [
    "### Example: Plotting an impulse response function\n",
    "One can use a convenience method to to plot the impulse response functions for a particular variable."
   ]
  },
  {
   "cell_type": "code",
   "execution_count": null,
   "metadata": {
    "collapsed": false
   },
   "outputs": [],
   "source": [
    "# check the docstring to see the call signature\n",
    "ces_model.irf.plot_impulse_response?"
   ]
  },
  {
   "cell_type": "code",
   "execution_count": null,
   "metadata": {
    "collapsed": false
   },
   "outputs": [],
   "source": [
    "fig, ax = plt.subplots(1, 1, figsize=(8,6))\n",
    "ces_model.irf.plot_impulse_response(ax, variable='output')\n",
    "plt.show()"
   ]
  },
  {
   "cell_type": "markdown",
   "metadata": {},
   "source": [
    "### Example: More complicated impulse responses are possible\n",
    "Note that by defining impulses as dictionaries, one can analyze extremely general shocks. For example, suppose that an exogenous 5% increase in the growth rate of technology was accompanied by a simultaneous 10% fall in the savings rate."
   ]
  },
  {
   "cell_type": "code",
   "execution_count": null,
   "metadata": {
    "collapsed": false
   },
   "outputs": [],
   "source": [
    "# more complicate shocks are possible\n",
    "ces_model.irf.impulse = {'s': 0.9 * ces_model.params['s'], 'g': 1.05 * ces_model.params['g']}\n",
    "\n",
    "# in efficiency units...\n",
    "ces_model.irf.kind = 'per_capita'"
   ]
  },
  {
   "cell_type": "code",
   "execution_count": null,
   "metadata": {
    "collapsed": false
   },
   "outputs": [],
   "source": [
    "fig, ax = plt.subplots(1, 1, figsize=(8,6))\n",
    "ces_model.irf.plot_impulse_response(ax, variable='output', log=True)\n",
    "plt.show()"
   ]
  },
  {
   "cell_type": "markdown",
   "metadata": {},
   "source": [
    "### Example: Interactive impulse reponse functions\n",
    "Using IPython widgets makes it extremely easy to analyze the various impulse response functions."
   ]
  },
  {
   "cell_type": "code",
   "execution_count": null,
   "metadata": {
    "collapsed": false
   },
   "outputs": [],
   "source": [
    "from IPython.html.widgets import fixed, interact, FloatSliderWidget"
   ]
  },
  {
   "cell_type": "code",
   "execution_count": null,
   "metadata": {
    "collapsed": false
   },
   "outputs": [],
   "source": [
    "def interactive_impulse_response(model, shock, param, variable, kind, log_scale):\n",
    "    \"\"\"Interactive impulse response plotting tool.\"\"\"    \n",
    "    # specify the impulse response\n",
    "    model.irf.impulse = {param: shock * model.params[param]}\n",
    "    model.irf.kind = kind\n",
    "    \n",
    "    # create the plot\n",
    "    fig, ax = plt.subplots(1, 1, figsize=(8,6))\n",
    "    model.irf.plot_impulse_response(ax, variable=variable, log=log_scale)\n",
    "    \n",
    "\n",
    "irf_widget = interact(interactive_impulse_response, \n",
    "                      model=fixed(ces_model),\n",
    "                      shock = FloatSliderWidget(min=0.1, max=5.0, step=0.1, value=0.5),\n",
    "                      param = ces_model.params.keys(),\n",
    "                      variable=['capital', 'output', 'consumption', 'investment'],\n",
    "                      kind=['efficiency_units', 'per_capita', 'levels'],\n",
    "                      log_scale=False,\n",
    "                      )"
   ]
  },
  {
   "cell_type": "code",
   "execution_count": null,
   "metadata": {
    "collapsed": false
   },
   "outputs": [],
   "source": []
  }
 ],
 "metadata": {
  "kernelspec": {
   "display_name": "Python 2",
   "language": "python",
   "name": "python2"
  },
  "language_info": {
   "codemirror_mode": {
    "name": "ipython",
    "version": 2
   },
   "file_extension": ".py",
   "mimetype": "text/x-python",
   "name": "python",
   "nbconvert_exporter": "python",
   "pygments_lexer": "ipython2",
   "version": "2.7.9"
  }
 },
 "nbformat": 4,
 "nbformat_minor": 0
}
